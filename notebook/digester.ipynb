{
 "cells": [
  {
   "cell_type": "code",
   "execution_count": 13,
   "id": "01b3c0c9",
   "metadata": {},
   "outputs": [
    {
     "name": "stdout",
     "output_type": "stream",
     "text": [
      "  House ID  Household Size Primary Fuel  Fuel mass (KG)  Time taken (days)  \\\n",
      "0     W001               3          LPG            12.5                 45   \n",
      "1     W002               4          LPG            12.5                 40   \n",
      "2     W003               4          LPG            12.5                 42   \n",
      "3     W004               1          LPG             3.0                 50   \n",
      "4     W005               5          LPG            12.5                 30   \n",
      "\n",
      "   Solid waste/day (Kg)  Daily Fuel Usage (KG/day)  \\\n",
      "0                   1.2                   0.277778   \n",
      "1                   1.8                   0.312500   \n",
      "2                   0.8                   0.297619   \n",
      "3                   0.3                   0.060000   \n",
      "4                   2.7                   0.416667   \n",
      "\n",
      "   Gross Energy per day (MJ/day)  Useful Energy per day (MJ/day)  \\\n",
      "0                      12.805556                        7.043056   \n",
      "1                      14.406250                        7.923438   \n",
      "2                      13.720238                        7.546131   \n",
      "3                       2.766000                        1.521300   \n",
      "4                      19.208333                       10.564583   \n",
      "\n",
      "   LPG-equivalent demand (kg/day)  \n",
      "0                        0.277778  \n",
      "1                        0.312500  \n",
      "2                        0.297619  \n",
      "3                        0.060000  \n",
      "4                        0.416667  \n"
     ]
    }
   ],
   "source": [
    "#Code to generate the required digester size\n",
    "import pandas as pd\n",
    "import numpy as np\n",
    "result = pd.read_csv(\"../analysis/Household_Survey_Analysis_with_LPG_equiv.csv\") \n",
    "print(result.head())\n",
    "# Constants\n",
    "Y = 0.3  # m³/kg biogas yield per kg of VS\n",
    "VS = 0.8  # kg VS per kg of waste\n",
    "retention_time_days = 30  # days"
   ]
  },
  {
   "cell_type": "code",
   "execution_count": 24,
   "id": "3c7fcdc0",
   "metadata": {},
   "outputs": [
    {
     "name": "stdout",
     "output_type": "stream",
     "text": [
      "Total Solid Waste: 36.50 kg/day\n",
      "\n",
      "Total biogas production potential from kitchen waste: 8.76 m^3/day\n"
     ]
    }
   ],
   "source": [
    "total_solid_waste_per_day = result['Solid waste/day (Kg)'].sum()\n",
    "total_biogas_per_day = total_solid_waste_per_day * VS * Y\n",
    "print(f\"Total Solid Waste: {total_solid_waste_per_day:.2f} kg/day\")\n",
    "\n",
    "#Total biogas yield from sum of daily kitchen waste\n",
    "print(f\"\\nTotal biogas production potential from kitchen waste: {total_biogas_per_day:.2f} m^3/day\")"
   ]
  },
  {
   "cell_type": "code",
   "execution_count": null,
   "id": "e7b17c23",
   "metadata": {},
   "outputs": [
    {
     "name": "stdout",
     "output_type": "stream",
     "text": [
      "Total Useful Energy Demand: 233.61 MJ/day\n",
      "\n",
      "Required daily biogas to meet energy demand: 21.24 m^3/day\n",
      "Required biogas digester volume: 2.19 m^3\n"
     ]
    }
   ],
   "source": [
    "total_useful_energy = result['Useful Energy per day (MJ/day)'].sum()\n",
    "\n",
    "print(f\"Total Useful Energy Demand: {total_useful_energy:.2f} MJ/day\")\n",
    "\n",
    "# Factors for digester sizing\n",
    "biogas_energy_content = 20 # MJ/m^3 biogas (as specified by user)\n",
    "biogas_stove_efficiency = 0.55 # from literature \n",
    "digester_hydraulic_retention_time = 30 # from literature (days)\n",
    "design_buffer = 2 # community safety factor \n",
    "\n",
    "def required_biogas_yield(total_useful_energy, biogas_energy_content, biogas_stove_efficiency):\n",
    "    return total_useful_energy / (biogas_energy_content * biogas_stove_efficiency)\n",
    "\n",
    "Wumba_biogas_need = required_biogas_yield(total_useful_energy, biogas_energy_content, biogas_stove_efficiency)\n",
    "print(f\"\\nRequired daily biogas to meet energy demand: {Wumba_biogas_need:.2f} m^3/day\")\n",
    "\n",
    "# --- Incorporating other waste sources ---\n",
    "#Estimate the daily amount and biogas potential of other waste sources:\n",
    "#\n",
    "# estimated_daily_cow_dung_kg = 50 # example value\n",
    "# biogas_yield_cow_dung = 0.1 # m^3 biogas per kg of cow dung (example value)\n",
    "# biogas_potential_cow_dung_m3_per_day = estimated_daily_cow_dung_kg * biogas_yield_cow_dung\n",
    "\n",
    "# estimated_daily_meat_waste_kg = 10 # example value\n",
    "# biogas_yield_meat_waste = 0.3 # m^3 biogas per kg of meat waste (example value)\n",
    "# biogas_potential_meat_waste_m3_per_day = estimated_daily_meat_waste_kg * biogas_yield_meat_waste\n",
    "\n",
    "# total_waste_biogas_potential_m3_per_day = (total_solid_waste_kg_per_day * biogas_yield_per_kg_waste) + biogas_potential_cow_dung_m3_per_day + biogas_potential_meat_waste_m3_per_day\n",
    "# print(f\"Total daily biogas potential from all waste sources: {total_waste_biogas_potential_m3_per_day:.2f} m^3/day\")\n",
    "\n",
    "\n",
    "# Calculate the required digester volume based on Hydraulic Retention Time (HRT)\n",
    "# Required Digester Volume = Total Wet Waste Input per Day * Hydraulic Retention Time * Design Buffer\n",
    "# Assuming a rough estimate of total wet waste input (solid waste + other sources) and converting kg to m^3 with an assumed density (adjust as needed)\n",
    "estimated_total_wet_waste_input_kg_per_day = total_solid_waste_per_day # + estimated_daily_cow_dung_kg + estimated_daily_meat_waste_kg # include other sources here\n",
    "assumed_wet_waste_density_kg_per_m3 = 1000 # example value (density of water, adjust for waste)\n",
    "estimated_total_wet_waste_input_m3_per_day = estimated_total_wet_waste_input_kg_per_day / assumed_wet_waste_density_kg_per_m3\n",
    "\n",
    "required_digester_volume_m3_hrt = estimated_total_wet_waste_input_m3_per_day * digester_hydraulic_retention_time * design_buffer\n",
    "\n",
    "print(f\"Required biogas digester volume: {required_digester_volume_m3_hrt:.2f} m^3\")\n",
    "\n",
    "# Compare the total biogas potential with the required yield to see if it's sufficient.\n",
    "# print(f\"\\nIs total waste biogas potential sufficient? {total_waste_biogas_potential_m3_per_day >= required_biogas_yield_m3_per_day}\")\n",
    "\n",
    "#Currently, the biogas potential from other waste sources is not included in the sufficiency check.\n"
   ]
  }
 ],
 "metadata": {
  "kernelspec": {
   "display_name": "Python 3",
   "language": "python",
   "name": "python3"
  },
  "language_info": {
   "codemirror_mode": {
    "name": "ipython",
    "version": 3
   },
   "file_extension": ".py",
   "mimetype": "text/x-python",
   "name": "python",
   "nbconvert_exporter": "python",
   "pygments_lexer": "ipython3",
   "version": "3.13.7"
  }
 },
 "nbformat": 4,
 "nbformat_minor": 5
}
