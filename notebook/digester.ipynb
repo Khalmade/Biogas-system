{
 "cells": [
  {
   "cell_type": "code",
   "execution_count": 2,
   "id": "01b3c0c9",
   "metadata": {},
   "outputs": [],
   "source": [
    "import pandas as pd\n",
    "import numpy as np\n",
    "result = pd.read_csv(\"../analysis/Household_Survey_Analysis_with_derivations.csv\") \n",
    "# Constants (from literature)\n",
    "Y = 0.3  # m³/kg biogas yield per kg of VS, \n",
    "VS = 0.8  # Volatile Solids content (fraction of total solids)\n",
    "retention_time_days = 30  # days"
   ]
  },
  {
   "cell_type": "code",
   "execution_count": 3,
   "id": "3c7fcdc0",
   "metadata": {},
   "outputs": [
    {
     "name": "stdout",
     "output_type": "stream",
     "text": [
      "Total Solid Waste: 36.50 kg/day\n",
      "\n",
      "Total biogas production potential from kitchen waste: 8.76 m^3/day\n"
     ]
    }
   ],
   "source": [
    "kitchen_waste = result['Solid waste/day (Kg)'].sum()\n",
    "print(f\"Total Solid Waste: {kitchen_waste:.2f} kg/day\")\n",
    "\n",
    "def total_biogas_per_day (kitchen_waste, VS, Y):\n",
    "    return kitchen_waste * VS * Y\n",
    "\n",
    "kitchen_biogas_per_day = total_biogas_per_day(kitchen_waste, VS, Y)\n",
    "\n",
    "#Total biogas yield from sum of daily kitchen waste in households\n",
    "print(f\"\\nTotal biogas production potential from kitchen waste: {kitchen_biogas_per_day:.2f} m^3/day\")"
   ]
  },
  {
   "cell_type": "code",
   "execution_count": 4,
   "id": "e7b17c23",
   "metadata": {},
   "outputs": [
    {
     "name": "stdout",
     "output_type": "stream",
     "text": [
      "Total Useful Energy Demand: 233.61 MJ/day\n",
      "\n",
      "Required daily biogas to meet energy demand: 21.24 m^3/day\n",
      "Total daily biogas potential from all waste sources: 25.26 m^3/day\n",
      "\n",
      "Total solids in the digester: 54.00 kg/day\n",
      "Slurry Volume: 0.68 m^3/day\n",
      "\n",
      "Biogas digester volume: 24.30 m^3\n",
      "\n",
      "Is total waste biogas potential sufficient?\n",
      "The biogas potential from available waste meets the community's energy needs.\n"
     ]
    }
   ],
   "source": [
    "#The useful energy required by the households\n",
    "total_useful_energy = result['Useful Energy per day (MJ/day)'].sum()\n",
    "\n",
    "print(f\"Total Useful Energy Demand: {total_useful_energy:.2f} MJ/day\")\n",
    "\n",
    "# Factors for digester sizing\n",
    "biogas_energy_content = 20 # MJ/m^3 biogas (from literature)\n",
    "biogas_stove_efficiency = 0.55 # from literature \n",
    "digester_hydraulic_retention_time = 30 # from literature (days)\n",
    "design_buffer = 1.2 #safety factor \n",
    "\n",
    "def required_biogas_yield(total_useful_energy, biogas_energy_content, biogas_stove_efficiency):\n",
    "    return total_useful_energy / (biogas_energy_content * biogas_stove_efficiency)\n",
    "\n",
    "Wumba_biogas_need = required_biogas_yield(total_useful_energy, biogas_energy_content, biogas_stove_efficiency)\n",
    "print(f\"\\nRequired daily biogas to meet energy demand: {Wumba_biogas_need:.2f} m^3/day\")\n",
    "\n",
    "# --- Incorporating other waste sources ---\n",
    "# Daily amount and biogas potential of other waste sources in Wumba:\n",
    "estimated_daily_cow_dung = 50 #kg from estimates of cattle in the area \n",
    "biogas_yield_cow_dung = 0.15 #m^3 biogas per kg of cow dung (literature)\n",
    "cow_dung_biogas = estimated_daily_cow_dung * biogas_yield_cow_dung\n",
    "\n",
    "estimated_daily_meat_waste = 30 #kg from abattoir estimates\n",
    "biogas_yield_meat_waste = 0.3 #m^3 biogas per kg of meat waste (literature)\n",
    "meat_waste_biogas = estimated_daily_meat_waste * biogas_yield_meat_waste\n",
    "\n",
    "total_waste_biogas_potential = kitchen_biogas_per_day + cow_dung_biogas + meat_waste_biogas\n",
    "print(f\"Total daily biogas potential from all waste sources: {total_waste_biogas_potential:.2f} m^3/day\")\n",
    "\n",
    "#Total Solids (TS%) in the Digester\n",
    "#Assuming kitchen waste is all solids, cow dung is 25% solids, and meat waste is 30% solids\n",
    "cow_dung_TS = 0.20 # from literature\n",
    "meat_waste_TS = 0.25 # from literature\n",
    "total_solids = (kitchen_waste) + (estimated_daily_cow_dung * cow_dung_TS) + (estimated_daily_meat_waste * meat_waste_TS)\n",
    "print(f\"\\nTotal solids in the digester: {total_solids:.2f} kg/day\")\n",
    "\n",
    "#Reactor Slurry Target \n",
    "reactor_slurry_target = 0.08 # %target total solids fraction inside the digester slurry, typical for biogas digesters; energypedia\n",
    "slurry_volume_needed = total_solids / (reactor_slurry_target * 1000 ) #(in m^3/day)\n",
    "print(f\"Slurry Volume: {slurry_volume_needed:.2f} m^3/day\")\n",
    "\n",
    "# Required digester volume based on Hydraulic Retention Time (HRT)\n",
    "required_digester_volume = slurry_volume_needed * digester_hydraulic_retention_time * design_buffer\n",
    "print(f\"\\nBiogas digester volume: {required_digester_volume:.2f} m^3\")\n",
    "\n",
    "# Compare the total biogas potential with the required yield to see if it's sufficient.\n",
    "print(f\"\\nIs total waste biogas potential sufficient?\")\n",
    "if total_waste_biogas_potential >= Wumba_biogas_need:\n",
    "    print(\"The biogas potential from available waste meets the community's energy needs.\")\n",
    "else:\n",
    "    print(\"The biogas potential from available waste does NOT meet the community's energy needs.\\n Consider additional waste sources or system optimizations.\")"
   ]
  },
  {
   "cell_type": "code",
   "execution_count": null,
   "id": "f89b68bd",
   "metadata": {},
   "outputs": [
    {
     "name": "stdout",
     "output_type": "stream",
     "text": [
      "Digester Diameter (D): 3.96 m\n",
      "Digester Height (H): 1.98 m\n"
     ]
    }
   ],
   "source": [
    "#Calculate the digester diameter and height\n",
    "import math\n",
    "def digester_dimensions(volume, diameter_to_height_ratio):\n",
    "    H = (4 * volume / (math.pi * (diameter_to_height_ratio ** 2))) ** (1/3)\n",
    "    D = diameter_to_height_ratio * H\n",
    "    return D, H\n",
    "\n",
    "D, H = digester_dimensions(required_digester_volume, 2)\n",
    "print(f\"Digester Diameter (D): {D:.2f} m\")\n",
    "print(f\"Digester Height (H): {H:.2f} m\")"
   ]
  }
 ],
 "metadata": {
  "kernelspec": {
   "display_name": "Python 3",
   "language": "python",
   "name": "python3"
  },
  "language_info": {
   "codemirror_mode": {
    "name": "ipython",
    "version": 3
   },
   "file_extension": ".py",
   "mimetype": "text/x-python",
   "name": "python",
   "nbconvert_exporter": "python",
   "pygments_lexer": "ipython3",
   "version": "3.13.7"
  }
 },
 "nbformat": 4,
 "nbformat_minor": 5
}
