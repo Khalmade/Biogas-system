{
 "cells": [
  {
   "cell_type": "code",
   "execution_count": 31,
   "id": "01b3c0c9",
   "metadata": {},
   "outputs": [
    {
     "name": "stdout",
     "output_type": "stream",
     "text": [
      "  House ID  Household Size Primary Fuel  Fuel mass (KG)  Time taken (days)  \\\n",
      "0     W001               3          LPG            12.5                 45   \n",
      "1     W002               4          LPG            12.5                 40   \n",
      "2     W003               4          LPG            12.5                 42   \n",
      "3     W004               1          LPG             3.0                 50   \n",
      "4     W005               5          LPG            12.5                 30   \n",
      "\n",
      "   Solid waste/day (Kg)  Daily Fuel Usage (KG/day)  \\\n",
      "0                   1.2                   0.277778   \n",
      "1                   1.8                   0.312500   \n",
      "2                   0.8                   0.297619   \n",
      "3                   0.3                   0.060000   \n",
      "4                   2.7                   0.416667   \n",
      "\n",
      "   Gross Energy per day (MJ/day)  Useful Energy per day (MJ/day)  \\\n",
      "0                      12.805556                        7.043056   \n",
      "1                      14.406250                        7.923438   \n",
      "2                      13.720238                        7.546131   \n",
      "3                       2.766000                        1.521300   \n",
      "4                      19.208333                       10.564583   \n",
      "\n",
      "   LPG-equivalent demand (kg/day)  \n",
      "0                        0.277778  \n",
      "1                        0.312500  \n",
      "2                        0.297619  \n",
      "3                        0.060000  \n",
      "4                        0.416667  \n"
     ]
    }
   ],
   "source": [
    "#Code to generate the required digester size\n",
    "import pandas as pd\n",
    "import numpy as np\n",
    "result = pd.read_csv(\"../analysis/Household_Survey_Analysis_with_derivations.csv\") \n",
    "print(result.head())\n",
    "# Constants (from literature)\n",
    "Y = 0.3  # m³/kg biogas yield per kg of VS, \n",
    "VS = 0.8  # Volatile Solids content (fraction of total solids)\n",
    "retention_time_days = 30  # days"
   ]
  },
  {
   "cell_type": "code",
   "execution_count": 32,
   "id": "3c7fcdc0",
   "metadata": {},
   "outputs": [
    {
     "name": "stdout",
     "output_type": "stream",
     "text": [
      "Total Solid Waste: 36.50 kg/day\n",
      "\n",
      "Total biogas production potential from kitchen waste: 8.76 m^3/day\n"
     ]
    }
   ],
   "source": [
    "kitchen_waste = result['Solid waste/day (Kg)'].sum()\n",
    "print(f\"Total Solid Waste: {kitchen_waste:.2f} kg/day\")\n",
    "\n",
    "def total_biogas_per_day (kitchen_waste, VS, Y):\n",
    "    return kitchen_waste * VS * Y\n",
    "\n",
    "kitchen_biogas_per_day = total_biogas_per_day(kitchen_waste, VS, Y)\n",
    "\n",
    "#Total biogas yield from sum of daily kitchen waste in Wumba\n",
    "print(f\"\\nTotal biogas production potential from kitchen waste: {kitchen_biogas_per_day:.2f} m^3/day\")"
   ]
  },
  {
   "cell_type": "code",
   "execution_count": null,
   "id": "e7b17c23",
   "metadata": {},
   "outputs": [
    {
     "name": "stdout",
     "output_type": "stream",
     "text": [
      "Total Useful Energy Demand: 233.61 MJ/day\n",
      "\n",
      "Required daily biogas to meet energy demand: 21.24 m^3/day\n",
      "Total daily biogas potential from all waste sources: 25.26 m^3/day\n",
      "Total solids in the digester: 23.80 kg/day\n",
      "Reactor slurry volume: 0.30 m^3/day\n",
      "Biogas digester volume: 13.39 m^3\n",
      "\n",
      "Is total waste biogas potential sufficient?\n",
      "The biogas potential from available waste meets the community's energy needs.\n"
     ]
    }
   ],
   "source": [
    "total_useful_energy = result['Useful Energy per day (MJ/day)'].sum()\n",
    "\n",
    "print(f\"Total Useful Energy Demand: {total_useful_energy:.2f} MJ/day\")\n",
    "\n",
    "# Factors for digester sizing\n",
    "biogas_energy_content = 20 # MJ/m^3 biogas (as specified by user)\n",
    "biogas_stove_efficiency = 0.55 # from literature \n",
    "digester_hydraulic_retention_time = 30 # from literature (days)\n",
    "design_buffer = 1.5 # community safety factor \n",
    "\n",
    "def required_biogas_yield(total_useful_energy, biogas_energy_content, biogas_stove_efficiency):\n",
    "    return total_useful_energy / (biogas_energy_content * biogas_stove_efficiency)\n",
    "\n",
    "Wumba_biogas_need = required_biogas_yield(total_useful_energy, biogas_energy_content, biogas_stove_efficiency)\n",
    "print(f\"\\nRequired daily biogas to meet energy demand: {Wumba_biogas_need:.2f} m^3/day\")\n",
    "\n",
    "# --- Incorporating other waste sources ---\n",
    "#Estimate the daily amount and biogas potential of other waste sources:\n",
    "#\n",
    "estimated_daily_cow_dung = 50 #kg from estimates of cattle in the area \n",
    "biogas_yield_cow_dung = 0.15 # m^3 biogas per kg of cow dung (literature)\n",
    "cow_dung_biogas = estimated_daily_cow_dung * biogas_yield_cow_dung\n",
    "\n",
    "estimated_daily_meat_waste = 30 #kg from abattoir estimates\n",
    "biogas_yield_meat_waste = 0.3 # m^3 biogas per kg of meat waste (literature)\n",
    "meat_waste_biogas = estimated_daily_meat_waste * biogas_yield_meat_waste\n",
    "\n",
    "total_waste_biogas_potential = kitchen_biogas_per_day + cow_dung_biogas + meat_waste_biogas\n",
    "print(f\"Total daily biogas potential from all waste sources: {total_waste_biogas_potential:.2f} m^3/day\")\n",
    "\n",
    "#Total Solids (TS%) in the Digester\n",
    "#Assuming kitchen waste is 20% solids, cow dung is 15% solids, and meat waste is 30% solids\n",
    "total_solids = (kitchen_waste * 0.2) + (estimated_daily_cow_dung * 0.15) + (estimated_daily_meat_waste * 0.3)\n",
    "print(f\"Total solids in the digester: {total_solids:.2f} kg/day\")\n",
    "\n",
    "#Reactor Slurry Target \n",
    "reactor_slurry_target = 0.08 # %TS, typical for biogas digesters\n",
    "slurry_volume_needed = total_solids / (reactor_slurry_target * 1000 ) #(in m^3/day)\n",
    "print(f\"Reactor slurry volume: {slurry_volume_needed:.2f} m^3/day\")\n",
    "\n",
    "# Calculate the required digester volume based on Hydraulic Retention Time (HRT)\n",
    "# Required Digester Volume = Total Wet Waste Input per Day * Hydraulic Retention Time * Design Buffer\n",
    "# Assuming a rough estimate of total wet waste input (solid waste + other sources) and converting kg to m^3 with an assumed density (adjust as needed)\n",
    "estimated_total_wet_waste = kitchen_waste + estimated_daily_cow_dung + estimated_daily_meat_waste # include other sources here\n",
    "assumed_wet_waste_density = 1000 #( kg/m^3-density of water, adjust for waste)\n",
    "estimated_total_wet_waste_input_m3_per_day = estimated_total_wet_waste / assumed_wet_waste_density\n",
    "\n",
    "required_digester_volume = slurry_volume_needed * digester_hydraulic_retention_time * design_buffer\n",
    "\n",
    "print(f\"Biogas digester volume: {required_digester_volume:.2f} m^3\")\n",
    "\n",
    "# Compare the total biogas potential with the required yield to see if it's sufficient.\n",
    "print(f\"\\nIs total waste biogas potential sufficient?\")\n",
    "if total_waste_biogas_potential >= Wumba_biogas_need:\n",
    "    print(\"The biogas potential from available waste meets the community's energy needs.\")\n",
    "else:\n",
    "    print(\"The biogas potential from available waste does NOT meet the community's energy needs. \\n Consider additional waste sources or system optimizations.\")"
   ]
  }
 ],
 "metadata": {
  "kernelspec": {
   "display_name": "Python 3",
   "language": "python",
   "name": "python3"
  },
  "language_info": {
   "codemirror_mode": {
    "name": "ipython",
    "version": 3
   },
   "file_extension": ".py",
   "mimetype": "text/x-python",
   "name": "python",
   "nbconvert_exporter": "python",
   "pygments_lexer": "ipython3",
   "version": "3.13.7"
  }
 },
 "nbformat": 4,
 "nbformat_minor": 5
}
